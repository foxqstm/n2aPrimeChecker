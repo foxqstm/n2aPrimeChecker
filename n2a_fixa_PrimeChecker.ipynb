{
 "cells": [
  {
   "cell_type": "code",
   "execution_count": 19,
   "metadata": {},
   "outputs": [
    {
     "name": "stdout",
     "output_type": "stream",
     "text": [
      "n^2-aが素数になる確率を計算します\n",
      "自然数aを入力してください:398\n",
      "調べる自然数の個数Numを入力してください:10000\n",
      "自然数の間隔を入力してください(最大値切り捨て):500\n"
     ]
    },
    {
     "data": {
      "image/png": "[encoded data removed]",
      "text/plain": [
       "<Figure size 432x288 with 1 Axes>"
      ]
     },
     "metadata": {},
     "output_type": "display_data"
    }
   ],
   "source": [
    "from CheckPrime import is_prime\n",
    "from ModulesFactorization import *\n",
    "import matplotlib.pyplot as plt\n",
    "import numpy as np\n",
    "import sys\n",
    "\n",
    "print(\"n^2-aが素数になる確率を計算します\")\n",
    "\n",
    "a_str=input(\"自然数aを入力してください:\")\n",
    "a=PositiveInt(a_str)\n",
    "if is_square(a):\n",
    "    print(\"{0}は平方数です。\".format(a))\n",
    "    sys.exit()\n",
    "\n",
    "num_str=input(\"調べる自然数の個数Numを入力してください:\")\n",
    "num=PositiveInt(num_str)\n",
    "\n",
    "num_sp_str=input(\"自然数の間隔を入力してください(最大値切り捨て):\")\n",
    "num_sp=PositiveInt(num_sp_str)\n",
    "\n",
    "num_num=num//num_sp\n",
    "\n",
    "N_list=[]\n",
    "Pa_list=[]\n",
    "\n",
    "ini_n=round(a**0.5)+1\n",
    "for m in range(1,num_num):\n",
    "        num=ini_n+m*num_sp\n",
    "        N_list.append(num)\n",
    "        count_prime=0\n",
    "        for n in range(ini_n,num+1):\n",
    "            p=n**2-a\n",
    "            if is_prime(p):\n",
    "                count_prime+=1\n",
    "                #print(p)\n",
    "        Pa=count_prime/num\n",
    "        Pa_list.append(Pa)\n",
    "        #print(count_prime/num)\n",
    "\n",
    "        \n",
    "#print(a_list,Pa_list)\n",
    "plt.plot(N_list,Pa_list,color=\"#77ff77\",marker=\"o\",linestyle=\":\") #エメラルドグリーンでプロット\n",
    "\n",
    "plt.xlabel(\"N\")\n",
    "plt.ylabel(\"P(N)\")\n",
    "\n",
    "plt.savefig(\"n2a_fix_a={0}_Num={1}\".format(a,num))\n",
    "\n",
    "plt.show()"
   ]
  }
 ],
 "metadata": {
  "kernelspec": {
   "display_name": "Python 3",
   "language": "python",
   "name": "python3"
  },
  "language_info": {
   "codemirror_mode": {
    "name": "ipython",
    "version": 3
   },
   "file_extension": ".py",
   "mimetype": "text/x-python",
   "name": "python",
   "nbconvert_exporter": "python",
   "pygments_lexer": "ipython3",
   "version": "3.6.5"
  }
 },
 "nbformat": 4,
 "nbformat_minor": 2
}
